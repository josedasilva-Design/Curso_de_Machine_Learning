{
  "nbformat": 4,
  "nbformat_minor": 0,
  "metadata": {
    "colab": {
      "provenance": [],
      "authorship_tag": "ABX9TyNamsEZkO7UxvichlEIU1B8",
      "include_colab_link": true
    },
    "kernelspec": {
      "name": "python3",
      "display_name": "Python 3"
    },
    "language_info": {
      "name": "python"
    }
  },
  "cells": [
    {
      "cell_type": "markdown",
      "metadata": {
        "id": "view-in-github",
        "colab_type": "text"
      },
      "source": [
        "<a href=\"https://colab.research.google.com/github/josedasilva-Design/Curso_de_Machine_Learning/blob/main/Curso_Machine_Learning.ipynb\" target=\"_parent\"><img src=\"https://colab.research.google.com/assets/colab-badge.svg\" alt=\"Open In Colab\"/></a>"
      ]
    },
    {
      "cell_type": "markdown",
      "source": [
        "## **Curso Machine Learning**"
      ],
      "metadata": {
        "id": "ZaDLoEBWe6Vr"
      }
    },
    {
      "cell_type": "markdown",
      "source": [
        "Vamos aprender a usar a biblioteca Numpy para trabalhar com vetores e matrizes usando Python\n",
        "\n",
        "Roteiro:\n",
        "  1. Criando listas e arrays\n",
        "  2. Operações com vetores\n",
        "  3. Criando matrizes                        \n",
        "  4. Operações com matrizes\n",
        "  5. seleção e atribuição de valores"
      ],
      "metadata": {
        "id": "8Ghi06xie6J-"
      }
    },
    {
      "cell_type": "code",
      "execution_count": 1,
      "metadata": {
        "id": "F31uX44ycQW8"
      },
      "outputs": [],
      "source": [
        "# impotar a biblioteca\n",
        "import numpy as np"
      ]
    },
    {
      "cell_type": "markdown",
      "source": [
        "## **1. Criando litas e arrays**  "
      ],
      "metadata": {
        "id": "OaYUeuHFhh-1"
      }
    },
    {
      "cell_type": "code",
      "source": [
        "# criar uma lista simples\n",
        "my_list = [0,1,2,3,4,5]"
      ],
      "metadata": {
        "id": "tBgVjqQkkEkq"
      },
      "execution_count": 2,
      "outputs": []
    },
    {
      "cell_type": "code",
      "source": [
        "# criar um arrays com numpy\n",
        "my_arry = np.array([0,1,2,3,4,5])"
      ],
      "metadata": {
        "id": "HEWGwgZbkaAE"
      },
      "execution_count": 4,
      "outputs": []
    },
    {
      "cell_type": "markdown",
      "source": [
        "## **Verificar a diferença entre a lista e o array**"
      ],
      "metadata": {
        "id": "E9l3UYfWmOSS"
      }
    },
    {
      "cell_type": "code",
      "source": [
        "print(my_list)\n",
        "print(my_arry)"
      ],
      "metadata": {
        "colab": {
          "base_uri": "https://localhost:8080/"
        },
        "id": "aJ0ZUHh6kaVE",
        "outputId": "493898e2-fbcf-4431-c02e-21eef7e83007"
      },
      "execution_count": 5,
      "outputs": [
        {
          "output_type": "stream",
          "name": "stdout",
          "text": [
            "[0, 1, 2, 3, 4, 5]\n",
            "[0 1 2 3 4 5]\n"
          ]
        }
      ]
    },
    {
      "cell_type": "code",
      "source": [
        "print(type(my_list))\n",
        "print(type(my_arry))"
      ],
      "metadata": {
        "colab": {
          "base_uri": "https://localhost:8080/"
        },
        "id": "ITb4imv6n5x-",
        "outputId": "2da816fe-7ab5-4a17-af27-4a66a4fcb097"
      },
      "execution_count": 6,
      "outputs": [
        {
          "output_type": "stream",
          "name": "stdout",
          "text": [
            "<class 'list'>\n",
            "<class 'numpy.ndarray'>\n"
          ]
        }
      ]
    },
    {
      "cell_type": "markdown",
      "source": [
        "## **2. Operações com vetores**  "
      ],
      "metadata": {
        "id": "o9Z6MbNxkavy"
      }
    },
    {
      "cell_type": "markdown",
      "source": [
        "## **2.1 Operador de soma (+) e subtração (-)**"
      ],
      "metadata": {
        "id": "P2xov1NJpnIr"
      }
    },
    {
      "cell_type": "code",
      "source": [
        "# fazer a operação de soma na lista\n",
        "print(my_list + 1)"
      ],
      "metadata": {
        "colab": {
          "base_uri": "https://localhost:8080/",
          "height": 159
        },
        "id": "cHdjOe1qkeuU",
        "outputId": "dcf4bfc1-499e-4b42-e9dd-3fcf133cce29"
      },
      "execution_count": 7,
      "outputs": [
        {
          "output_type": "error",
          "ename": "TypeError",
          "evalue": "can only concatenate list (not \"int\") to list",
          "traceback": [
            "\u001b[0;31m---------------------------------------------------------------------------\u001b[0m",
            "\u001b[0;31mTypeError\u001b[0m                                 Traceback (most recent call last)",
            "\u001b[0;32m<ipython-input-7-c0cd90c5bf8d>\u001b[0m in \u001b[0;36m<cell line: 0>\u001b[0;34m()\u001b[0m\n\u001b[1;32m      1\u001b[0m \u001b[0;31m# fazer a operação de soma na lista\u001b[0m\u001b[0;34m\u001b[0m\u001b[0;34m\u001b[0m\u001b[0m\n\u001b[0;32m----> 2\u001b[0;31m \u001b[0mprint\u001b[0m\u001b[0;34m(\u001b[0m\u001b[0mmy_list\u001b[0m \u001b[0;34m+\u001b[0m \u001b[0;36m1\u001b[0m\u001b[0;34m)\u001b[0m\u001b[0;34m\u001b[0m\u001b[0;34m\u001b[0m\u001b[0m\n\u001b[0m",
            "\u001b[0;31mTypeError\u001b[0m: can only concatenate list (not \"int\") to list"
          ]
        }
      ]
    },
    {
      "cell_type": "code",
      "source": [
        "# fazer a operação de soma no array\n",
        "print(my_arry +1)"
      ],
      "metadata": {
        "colab": {
          "base_uri": "https://localhost:8080/"
        },
        "id": "E6rTf70Op2ol",
        "outputId": "439ac16a-a944-44bf-d4e3-3965c736f421"
      },
      "execution_count": 8,
      "outputs": [
        {
          "output_type": "stream",
          "name": "stdout",
          "text": [
            "[1 2 3 4 5 6]\n"
          ]
        }
      ]
    },
    {
      "cell_type": "code",
      "source": [
        "# somar dois array\n",
        "print(my_arry + my_arry)"
      ],
      "metadata": {
        "colab": {
          "base_uri": "https://localhost:8080/"
        },
        "id": "p4HixygEp28C",
        "outputId": "bab11bd2-7cec-4761-ad8d-975624916a5c"
      },
      "execution_count": 9,
      "outputs": [
        {
          "output_type": "stream",
          "name": "stdout",
          "text": [
            "[ 0  2  4  6  8 10]\n"
          ]
        }
      ]
    },
    {
      "cell_type": "code",
      "source": [
        "# subtraido dois arrays\n",
        "print(my_arry - my_arry)"
      ],
      "metadata": {
        "colab": {
          "base_uri": "https://localhost:8080/"
        },
        "id": "j6XhzZrMp3Rc",
        "outputId": "c903e937-bf7d-4ce2-d06c-b9a12bdf37ff"
      },
      "execution_count": 10,
      "outputs": [
        {
          "output_type": "stream",
          "name": "stdout",
          "text": [
            "[0 0 0 0 0 0]\n"
          ]
        }
      ]
    },
    {
      "cell_type": "markdown",
      "source": [
        "## **2,2 Operador de multiplicação (*) e divisão (/)**"
      ],
      "metadata": {
        "id": "q68PalSiqx-d"
      }
    },
    {
      "cell_type": "code",
      "source": [
        "# fazer a operação de multiplicação na lista\n",
        "print(my_list * 2)"
      ],
      "metadata": {
        "colab": {
          "base_uri": "https://localhost:8080/"
        },
        "id": "iFoGcIC6p37V",
        "outputId": "f2e9e022-eb00-4aaf-bcd8-ba42c61bb0f2"
      },
      "execution_count": 11,
      "outputs": [
        {
          "output_type": "stream",
          "name": "stdout",
          "text": [
            "[0, 1, 2, 3, 4, 5, 0, 1, 2, 3, 4, 5]\n"
          ]
        }
      ]
    },
    {
      "cell_type": "code",
      "source": [
        "# fazer a opreração de multiplicação no array\n",
        "print(my_arry * 2)"
      ],
      "metadata": {
        "colab": {
          "base_uri": "https://localhost:8080/"
        },
        "id": "gppQIUa7rWDZ",
        "outputId": "671a8f99-425c-48ed-fa20-8fcd7d0e52c5"
      },
      "execution_count": 12,
      "outputs": [
        {
          "output_type": "stream",
          "name": "stdout",
          "text": [
            "[ 0  2  4  6  8 10]\n"
          ]
        }
      ]
    },
    {
      "cell_type": "code",
      "source": [
        "# fazer a operação de divisão no array\n",
        "print(my_arry / 2)"
      ],
      "metadata": {
        "colab": {
          "base_uri": "https://localhost:8080/"
        },
        "id": "DawYBzAnrV0a",
        "outputId": "11b60041-5e52-4959-d422-5932cb3c2ba9"
      },
      "execution_count": 13,
      "outputs": [
        {
          "output_type": "stream",
          "name": "stdout",
          "text": [
            "[0.  0.5 1.  1.5 2.  2.5]\n"
          ]
        }
      ]
    },
    {
      "cell_type": "markdown",
      "source": [
        "## **3. Criando matrizes**"
      ],
      "metadata": {
        "id": "gPPFB5UyrYY_"
      }
    },
    {
      "cell_type": "markdown",
      "source": [
        "## Uma matriz é uma estrutura composta de **m** linhas por **n** colunas."
      ],
      "metadata": {
        "id": "7g1cg_s5sAcF"
      }
    },
    {
      "cell_type": "code",
      "source": [
        "# criando uma matriz a partir de listas\n",
        "matrix_1 = np.array([my_list, my_list, my_list])\n",
        "matrix_1"
      ],
      "metadata": {
        "colab": {
          "base_uri": "https://localhost:8080/"
        },
        "id": "yhD01bP6r65G",
        "outputId": "bdea68d3-9288-4d0a-a73b-2c6772021773"
      },
      "execution_count": 15,
      "outputs": [
        {
          "output_type": "execute_result",
          "data": {
            "text/plain": [
              "array([[0, 1, 2, 3, 4, 5],\n",
              "       [0, 1, 2, 3, 4, 5],\n",
              "       [0, 1, 2, 3, 4, 5]])"
            ]
          },
          "metadata": {},
          "execution_count": 15
        }
      ]
    },
    {
      "cell_type": "code",
      "source": [
        "# criando uma matriz a partir de arrays\n",
        "matrix_2 = np.array([my_arry, my_arry, my_arry])\n",
        "matrix_2"
      ],
      "metadata": {
        "colab": {
          "base_uri": "https://localhost:8080/"
        },
        "id": "zaedFO0LsEsx",
        "outputId": "40acdbae-3607-4921-b823-32ebaffa23db"
      },
      "execution_count": 23,
      "outputs": [
        {
          "output_type": "execute_result",
          "data": {
            "text/plain": [
              "array([[0, 1, 2, 3, 4, 5],\n",
              "       [0, 1, 2, 3, 4, 5],\n",
              "       [0, 1, 2, 3, 4, 5]])"
            ]
          },
          "metadata": {},
          "execution_count": 23
        }
      ]
    },
    {
      "cell_type": "markdown",
      "source": [
        "## Em uma matriz todas as linhas contém a mesma quantidade de elementos."
      ],
      "metadata": {
        "id": "QQvAqRoysKJO"
      }
    },
    {
      "cell_type": "code",
      "source": [
        "# criar uma matriz com uma quantidade diferente de elementos na lista\n",
        "matrix_3 = np.array([[1,2],[1,2],[1,2,],[1,2],[1,2,3]])\n",
        "matrix_3"
      ],
      "metadata": {
        "colab": {
          "base_uri": "https://localhost:8080/",
          "height": 193
        },
        "id": "Obi5Toq02IaE",
        "outputId": "8247bf40-446e-4010-fb00-7f6184b2fbb4"
      },
      "execution_count": 49,
      "outputs": [
        {
          "output_type": "error",
          "ename": "ValueError",
          "evalue": "setting an array element with a sequence. The requested array has an inhomogeneous shape after 1 dimensions. The detected shape was (5,) + inhomogeneous part.",
          "traceback": [
            "\u001b[0;31m---------------------------------------------------------------------------\u001b[0m",
            "\u001b[0;31mValueError\u001b[0m                                Traceback (most recent call last)",
            "\u001b[0;32m<ipython-input-49-45ccae03fd89>\u001b[0m in \u001b[0;36m<cell line: 0>\u001b[0;34m()\u001b[0m\n\u001b[1;32m      1\u001b[0m \u001b[0;31m# criar uma matriz com uma quantidade diferente de elementos na lista\u001b[0m\u001b[0;34m\u001b[0m\u001b[0;34m\u001b[0m\u001b[0m\n\u001b[0;32m----> 2\u001b[0;31m \u001b[0mmatrix_3\u001b[0m \u001b[0;34m=\u001b[0m \u001b[0mnp\u001b[0m\u001b[0;34m.\u001b[0m\u001b[0marray\u001b[0m\u001b[0;34m(\u001b[0m\u001b[0;34m[\u001b[0m\u001b[0;34m[\u001b[0m\u001b[0;36m1\u001b[0m\u001b[0;34m,\u001b[0m\u001b[0;36m2\u001b[0m\u001b[0;34m]\u001b[0m\u001b[0;34m,\u001b[0m\u001b[0;34m[\u001b[0m\u001b[0;36m1\u001b[0m\u001b[0;34m,\u001b[0m\u001b[0;36m2\u001b[0m\u001b[0;34m]\u001b[0m\u001b[0;34m,\u001b[0m\u001b[0;34m[\u001b[0m\u001b[0;36m1\u001b[0m\u001b[0;34m,\u001b[0m\u001b[0;36m2\u001b[0m\u001b[0;34m,\u001b[0m\u001b[0;34m]\u001b[0m\u001b[0;34m,\u001b[0m\u001b[0;34m[\u001b[0m\u001b[0;36m1\u001b[0m\u001b[0;34m,\u001b[0m\u001b[0;36m2\u001b[0m\u001b[0;34m]\u001b[0m\u001b[0;34m,\u001b[0m\u001b[0;34m[\u001b[0m\u001b[0;36m1\u001b[0m\u001b[0;34m,\u001b[0m\u001b[0;36m2\u001b[0m\u001b[0;34m,\u001b[0m\u001b[0;36m3\u001b[0m\u001b[0;34m]\u001b[0m\u001b[0;34m]\u001b[0m\u001b[0;34m)\u001b[0m\u001b[0;34m\u001b[0m\u001b[0;34m\u001b[0m\u001b[0m\n\u001b[0m\u001b[1;32m      3\u001b[0m \u001b[0mmatrix_3\u001b[0m\u001b[0;34m\u001b[0m\u001b[0;34m\u001b[0m\u001b[0m\n",
            "\u001b[0;31mValueError\u001b[0m: setting an array element with a sequence. The requested array has an inhomogeneous shape after 1 dimensions. The detected shape was (5,) + inhomogeneous part."
          ]
        }
      ]
    },
    {
      "cell_type": "code",
      "source": [
        "# criando uma mariz com valores zerados\n",
        "matrix_4 = np.zeros((3,6))\n",
        "matrix_4"
      ],
      "metadata": {
        "colab": {
          "base_uri": "https://localhost:8080/"
        },
        "id": "TPsjvscD4C62",
        "outputId": "93b9bd57-244a-4a17-91cb-0b3671087022"
      },
      "execution_count": 39,
      "outputs": [
        {
          "output_type": "execute_result",
          "data": {
            "text/plain": [
              "array([[0., 0., 0., 0., 0., 0.],\n",
              "       [0., 0., 0., 0., 0., 0.],\n",
              "       [0., 0., 0., 0., 0., 0.]])"
            ]
          },
          "metadata": {},
          "execution_count": 39
        }
      ]
    },
    {
      "cell_type": "markdown",
      "source": [
        "## **4. Operações com matrizes**"
      ],
      "metadata": {
        "id": "7Pp7o__ZsJ0u"
      }
    },
    {
      "cell_type": "markdown",
      "source": [
        "# **4.1 Operador de soma(+) e subtração (-)**"
      ],
      "metadata": {
        "id": "7-N2_Pmh5-4B"
      }
    },
    {
      "cell_type": "code",
      "source": [
        "# visualizar novamente a matriz 2\n",
        "matrix_2"
      ],
      "metadata": {
        "colab": {
          "base_uri": "https://localhost:8080/"
        },
        "id": "aeqYZZGj6Y3_",
        "outputId": "413b9fd7-2bfd-41da-9ce2-925fb2e1ac01"
      },
      "execution_count": 40,
      "outputs": [
        {
          "output_type": "execute_result",
          "data": {
            "text/plain": [
              "array([[0, 1, 2, 3, 4, 5],\n",
              "       [0, 1, 2, 3, 4, 5],\n",
              "       [0, 1, 2, 3, 4, 5]])"
            ]
          },
          "metadata": {},
          "execution_count": 40
        }
      ]
    },
    {
      "cell_type": "code",
      "source": [
        "# fazer operação de soma\n",
        "matrix_2 + 3"
      ],
      "metadata": {
        "colab": {
          "base_uri": "https://localhost:8080/"
        },
        "id": "X0Ei1bBV6aIg",
        "outputId": "381cbb6a-bc2e-4665-a144-6d6cac9f4fb2"
      },
      "execution_count": 41,
      "outputs": [
        {
          "output_type": "execute_result",
          "data": {
            "text/plain": [
              "array([[3, 4, 5, 6, 7, 8],\n",
              "       [3, 4, 5, 6, 7, 8],\n",
              "       [3, 4, 5, 6, 7, 8]])"
            ]
          },
          "metadata": {},
          "execution_count": 41
        }
      ]
    },
    {
      "cell_type": "code",
      "source": [
        "# fazer operação de subtrção\n",
        "matrix_2 - 3"
      ],
      "metadata": {
        "colab": {
          "base_uri": "https://localhost:8080/"
        },
        "id": "zQNmnRTW6ZeR",
        "outputId": "9b6a86fc-cf44-4577-b3c0-b3403dedeede"
      },
      "execution_count": 42,
      "outputs": [
        {
          "output_type": "execute_result",
          "data": {
            "text/plain": [
              "array([[-3, -2, -1,  0,  1,  2],\n",
              "       [-3, -2, -1,  0,  1,  2],\n",
              "       [-3, -2, -1,  0,  1,  2]])"
            ]
          },
          "metadata": {},
          "execution_count": 42
        }
      ]
    },
    {
      "cell_type": "code",
      "source": [
        "# visualizar novamente a matriz 3 mal formatada\n",
        "matrix_3"
      ],
      "metadata": {
        "colab": {
          "base_uri": "https://localhost:8080/"
        },
        "id": "JA2nDN_W7Vk0",
        "outputId": "174e6f40-bb82-45a6-ee36-729b2f31ebb5"
      },
      "execution_count": 50,
      "outputs": [
        {
          "output_type": "execute_result",
          "data": {
            "text/plain": [
              "array([[1, 2],\n",
              "       [1, 2],\n",
              "       [1, 2],\n",
              "       [1, 2],\n",
              "       [1, 3]])"
            ]
          },
          "metadata": {},
          "execution_count": 50
        }
      ]
    },
    {
      "cell_type": "code",
      "source": [
        "# usar o operador de soma\n",
        "matrix_3 + 3"
      ],
      "metadata": {
        "colab": {
          "base_uri": "https://localhost:8080/"
        },
        "id": "9kwVCVtn71pQ",
        "outputId": "b94bcc8e-3660-4978-fbe7-d4b5ae56b732"
      },
      "execution_count": 51,
      "outputs": [
        {
          "output_type": "execute_result",
          "data": {
            "text/plain": [
              "array([[4, 5],\n",
              "       [4, 5],\n",
              "       [4, 5],\n",
              "       [4, 5],\n",
              "       [4, 6]])"
            ]
          },
          "metadata": {},
          "execution_count": 51
        }
      ]
    },
    {
      "cell_type": "markdown",
      "source": [
        "## 4.2 Operador de multiplicação (*) e divisão (/)"
      ],
      "metadata": {
        "id": "Vm4pqof291YL"
      }
    },
    {
      "cell_type": "code",
      "source": [
        "# visualizar novamente a matriz 2\n",
        "matrix_2"
      ],
      "metadata": {
        "colab": {
          "base_uri": "https://localhost:8080/"
        },
        "id": "X8jAVqqJ9r0m",
        "outputId": "05e8ce58-6e27-43b8-b101-14d29f8db57e"
      },
      "execution_count": 52,
      "outputs": [
        {
          "output_type": "execute_result",
          "data": {
            "text/plain": [
              "array([[0, 1, 2, 3, 4, 5],\n",
              "       [0, 1, 2, 3, 4, 5],\n",
              "       [0, 1, 2, 3, 4, 5]])"
            ]
          },
          "metadata": {},
          "execution_count": 52
        }
      ]
    },
    {
      "cell_type": "code",
      "source": [
        "# fazer a operação de multiplicação na matrix\n",
        "matrix_2 * 2"
      ],
      "metadata": {
        "colab": {
          "base_uri": "https://localhost:8080/"
        },
        "id": "XlTKkYiC-RPC",
        "outputId": "648560ef-206b-455f-8abd-d66d7133cb41"
      },
      "execution_count": 53,
      "outputs": [
        {
          "output_type": "execute_result",
          "data": {
            "text/plain": [
              "array([[ 0,  2,  4,  6,  8, 10],\n",
              "       [ 0,  2,  4,  6,  8, 10],\n",
              "       [ 0,  2,  4,  6,  8, 10]])"
            ]
          },
          "metadata": {},
          "execution_count": 53
        }
      ]
    },
    {
      "cell_type": "code",
      "source": [
        "# fazer a operação de divisão na matriz\n",
        "matrix_2 / 2\n",
        "matrix_2 / matrix_2\n"
      ],
      "metadata": {
        "colab": {
          "base_uri": "https://localhost:8080/"
        },
        "id": "lh4L85DL-Uk7",
        "outputId": "95eedcf9-24b8-4771-edd3-14c7db233d4c"
      },
      "execution_count": 56,
      "outputs": [
        {
          "output_type": "stream",
          "name": "stderr",
          "text": [
            "<ipython-input-56-580e4ab6a80f>:3: RuntimeWarning: invalid value encountered in divide\n",
            "  matrix_2 / matrix_2\n"
          ]
        },
        {
          "output_type": "execute_result",
          "data": {
            "text/plain": [
              "array([[nan,  1.,  1.,  1.,  1.,  1.],\n",
              "       [nan,  1.,  1.,  1.,  1.,  1.],\n",
              "       [nan,  1.,  1.,  1.,  1.,  1.]])"
            ]
          },
          "metadata": {},
          "execution_count": 56
        }
      ]
    },
    {
      "cell_type": "markdown",
      "source": [
        "## **5. Seleção e atribuição de valores**"
      ],
      "metadata": {
        "id": "DX94Pt0C_A3B"
      }
    },
    {
      "cell_type": "markdown",
      "source": [
        "## **5.1 Listas e vetores**"
      ],
      "metadata": {
        "id": "xEWnAVlr_pw5"
      }
    },
    {
      "cell_type": "code",
      "source": [
        "# criar  uma lista\n",
        "print(my_list)\n",
        "\n",
        "# selecionar o valor da lista na posição 3\n",
        "print(my_list[3])\n",
        "\n",
        "# selecionar o valor da lista na última posição\n",
        "print(my_list[-1])\n",
        "\n",
        "# mudar o valor da posição 0\n",
        "my_list[0] = 6\n",
        "print(my_list)\n",
        "\n"
      ],
      "metadata": {
        "colab": {
          "base_uri": "https://localhost:8080/"
        },
        "id": "PbvKOOEwXyIC",
        "outputId": "eebc1086-5de1-4b6d-fec3-b8b72e073300"
      },
      "execution_count": 61,
      "outputs": [
        {
          "output_type": "stream",
          "name": "stdout",
          "text": [
            "[6, 1, 2, 3, 4, 5]\n",
            "3\n",
            "5\n",
            "[6, 1, 2, 3, 4, 5]\n"
          ]
        }
      ]
    },
    {
      "cell_type": "code",
      "source": [
        "# Criar um arry\n",
        "print(my_arry)\n",
        "\n",
        "# selecionar o valor da lista na posição\n",
        "print(my_arry[3])\n",
        "\n",
        "# selecionar o valor da lista na última posição\n",
        "print(my_arry[-1])\n",
        "\n",
        "# mudar o valor da posição 0\n",
        "my_arry[0] = 6\n",
        "print(my_arry)"
      ],
      "metadata": {
        "colab": {
          "base_uri": "https://localhost:8080/"
        },
        "id": "WKCSTnBa_6BS",
        "outputId": "554acc92-3b70-4d66-a281-374971d20156"
      },
      "execution_count": 64,
      "outputs": [
        {
          "output_type": "stream",
          "name": "stdout",
          "text": [
            "[6 1 2 3 4 5]\n",
            "3\n",
            "5\n",
            "[6 1 2 3 4 5]\n"
          ]
        }
      ]
    },
    {
      "cell_type": "markdown",
      "source": [
        "# **5.2. Matrizes**"
      ],
      "metadata": {
        "id": "YmAJ2uezaRlo"
      }
    },
    {
      "cell_type": "code",
      "source": [
        "# visualizar novamente a matriz 2\n",
        "print(matrix_2)"
      ],
      "metadata": {
        "colab": {
          "base_uri": "https://localhost:8080/"
        },
        "id": "laK8yNvxaSkN",
        "outputId": "2c1b473d-1b75-49cf-aaf2-f0f99fc6d979"
      },
      "execution_count": 65,
      "outputs": [
        {
          "output_type": "stream",
          "name": "stdout",
          "text": [
            "[[0 1 2 3 4 5]\n",
            " [0 1 2 3 4 5]\n",
            " [0 1 2 3 4 5]]\n"
          ]
        }
      ]
    },
    {
      "cell_type": "code",
      "source": [
        "# selecionar o valor da matriz na posição 2.3\n",
        "matrix_2[2,3]"
      ],
      "metadata": {
        "colab": {
          "base_uri": "https://localhost:8080/"
        },
        "id": "Yg4vJ2wCaT7o",
        "outputId": "2971df1c-5e4b-4be6-f8ea-9225dc2861c7"
      },
      "execution_count": 66,
      "outputs": [
        {
          "output_type": "execute_result",
          "data": {
            "text/plain": [
              "3"
            ]
          },
          "metadata": {},
          "execution_count": 66
        }
      ]
    },
    {
      "cell_type": "code",
      "source": [
        "# selecionar o último valor da matriz da linha 1\n",
        "matrix_2[1,-1]"
      ],
      "metadata": {
        "colab": {
          "base_uri": "https://localhost:8080/"
        },
        "id": "VuHok_oga4Lw",
        "outputId": "6c2dd044-9465-409c-d95e-8e35adb28c99"
      },
      "execution_count": 67,
      "outputs": [
        {
          "output_type": "execute_result",
          "data": {
            "text/plain": [
              "5"
            ]
          },
          "metadata": {},
          "execution_count": 67
        }
      ]
    },
    {
      "cell_type": "code",
      "source": [
        "# mudar o valor da posição 0.0\n",
        "matrix_2[0,0] = 6\n",
        "matrix_2"
      ],
      "metadata": {
        "colab": {
          "base_uri": "https://localhost:8080/"
        },
        "id": "LIykHOv6b165",
        "outputId": "87075846-31f5-4c7b-eeca-5c76e1004916"
      },
      "execution_count": 68,
      "outputs": [
        {
          "output_type": "execute_result",
          "data": {
            "text/plain": [
              "array([[6, 1, 2, 3, 4, 5],\n",
              "       [0, 1, 2, 3, 4, 5],\n",
              "       [0, 1, 2, 3, 4, 5]])"
            ]
          },
          "metadata": {},
          "execution_count": 68
        }
      ]
    }
  ]
}